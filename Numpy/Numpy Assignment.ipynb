{
 "cells": [
  {
   "cell_type": "code",
   "execution_count": null,
   "metadata": {},
   "outputs": [],
   "source": [
    "\"\"\"Theoretical Questions\"\"\""
   ]
  },
  {
   "cell_type": "code",
   "execution_count": null,
   "metadata": {},
   "outputs": [],
   "source": [
    "\"\"\"\"\n",
    "Q1)  Explain the purpose and advantages of NumPy in scientific computing and data analysis. How does it enhance Python's capabilities for \n",
    "     numerical operations?\n",
    "Answer-\n",
    "     NumPy (Numerical Python) is a powerful library for scientific computing and data analysis in Python. \n",
    "     Here's how NumPy enhances Python's capabilities for numerical operations and why it's widely used in scientific computing and data \n",
    "     analysis:\n",
    "     1) Efficient Arrays - \n",
    "        Purpose: NumPy introduces the ndarray, a powerful object for creating and handling multi-dimensional arrays \n",
    "        (lists of numbers arranged in rows and columns, like spreadsheets).\n",
    "        Advantage: These arrays are faster and take up less memory than Python's regular lists, especially when working with large datasets.\n",
    "     2) Fast Calculations -\n",
    "        Purpose: NumPy allows you to perform math operations (like adding, multiplying, etc.) on entire arrays at once, without needing loops.\n",
    "        Advantage: This makes your code much faster because NumPy is optimized using C code under the hood, which runs quicker than regular \n",
    "        Python loops.\n",
    "     3) Memory Efficiency -\n",
    "        Purpose: NumPy arrays store data more compactly than Python lists by using fixed data types.\n",
    "        Advantage: This helps save memory, especially when working with big data, and improves performance.\n",
    "     4) Math Functions -\n",
    "        Purpose: NumPy provides a wide range of built-in functions for performing math operations, such as statistics, linear algebra, and \n",
    "        random number generation.\n",
    "        Advantage: You get access to ready-made tools for complex calculations, saving time and effort.\n",
    "     5) Works with Other Libraries -\n",
    "        Purpose: Many popular Python libraries (like Pandas, SciPy, and TensorFlow) use NumPy arrays.\n",
    "        Advantage: This makes it easier to work with different libraries together, as they share a common data structure.\n",
    "     6. Broadcasting -\n",
    "        Purpose: NumPy allows you to perform operations on arrays of different sizes without needing to reshape them manually.\n",
    "        Advantage: This simplifies calculations and saves time when working with arrays of varying dimensions.\n",
    "     7. Data Handling -\n",
    "        Purpose: NumPy makes it easy to reshape, slice, and manipulate arrays.\n",
    "        Advantage: You can quickly modify your data to fit the format you need, making it easier to clean and prepare data for analysis.\n",
    "     8. Widely Used and Open Source -\n",
    "        Purpose: NumPy is free and widely supported by a large community.\n",
    "        Advantage: You can find plenty of resources, tutorials, and help online, making it easier to learn and use.\n",
    "    \n",
    "     NumPy improves Python by making numerical operations faster and more memory-efficient. It allows you to handle large datasets and perform\n",
    "     complex calculations with ease, making it an essential tool for scientific computing, data analysis, and machine learning.\n",
    "\"\"\""
   ]
  },
  {
   "cell_type": "code",
   "execution_count": null,
   "metadata": {},
   "outputs": [],
   "source": [
    "\"\"\"\n",
    "Q2) Compare and contrast np.mean() and np.average() functions in NumPy. When would you use one over the other?\n",
    "Answer-\n",
    "    In NumPy, both np.mean() and np.average() are used to calculate the average of an array, but there are key differences between them in \n",
    "    terms of functionality and use cases. Here’s a comparison and explanation of when to use one over the other -\n",
    "    1) Basic Functionality -\n",
    "       np.mean(): This function computes the arithmetic mean (or simple average) of the elements in an array.\n",
    "       np.average(): By default, this function also computes the arithmetic mean, but it allows you to include weights, which means you can \n",
    "       compute a weighted average.\n",
    "    2) Weights Parameter -\n",
    "       np.mean(): Does not support weights. It calculates a simple average without considering any importance or weight of individual\n",
    "       elements.\n",
    "       np.average(): Supports a weights parameter that allows you to assign different weights to elements, making it ideal for calculating \n",
    "       weighted averages.\n",
    "    3) Return Value -\n",
    "       np.mean(): Returns a single scalar value representing the arithmetic mean of all elements.\n",
    "       np.average(): Also returns a scalar when computing the average. However, if you provide weights and specify returned=True, it will \n",
    "       return a tuple containing the average and the sum of the weights.\n",
    "    4) Performance -\n",
    "       np.mean(): Generally faster when you only need a simple average since it doesn’t involve the additional overhead of processing weights.\n",
    "       np.average(): Slightly slower due to the flexibility it offers with weights, even if weights are not used.\n",
    "    5) Use Cases -\n",
    "       Use np.mean() when:\n",
    "       a) You want to compute a simple arithmetic mean of an array.\n",
    "       b) You do not need to consider the importance or weight of individual elements.\n",
    "       c) You are looking for a fast, straightforward average calculation.\n",
    "      Use np.average() when:\n",
    "       a) You need to calculate a weighted average where some elements contribute more to the result than others.\n",
    "       b) You want to retrieve both the average and the sum of the weights using the returned=True option.\n",
    "\"\"\""
   ]
  },
  {
   "cell_type": "code",
   "execution_count": 5,
   "metadata": {},
   "outputs": [
    {
     "name": "stdout",
     "output_type": "stream",
     "text": [
      "Collecting numpy\n",
      "  Downloading numpy-2.1.1-cp312-cp312-win_amd64.whl.metadata (59 kB)\n",
      "Downloading numpy-2.1.1-cp312-cp312-win_amd64.whl (12.6 MB)\n",
      "   ---------------------------------------- 0.0/12.6 MB ? eta -:--:--\n",
      "   --- ------------------------------------ 1.0/12.6 MB 6.3 MB/s eta 0:00:02\n",
      "   ----- ---------------------------------- 1.8/12.6 MB 4.6 MB/s eta 0:00:03\n",
      "   -------- ------------------------------- 2.6/12.6 MB 4.3 MB/s eta 0:00:03\n",
      "   ---------- ----------------------------- 3.4/12.6 MB 4.3 MB/s eta 0:00:03\n",
      "   ------------- -------------------------- 4.2/12.6 MB 4.2 MB/s eta 0:00:02\n",
      "   ---------------- ----------------------- 5.2/12.6 MB 4.1 MB/s eta 0:00:02\n",
      "   ------------------- -------------------- 6.0/12.6 MB 4.1 MB/s eta 0:00:02\n",
      "   --------------------- ------------------ 6.8/12.6 MB 4.1 MB/s eta 0:00:02\n",
      "   ------------------------ --------------- 7.6/12.6 MB 4.0 MB/s eta 0:00:02\n",
      "   -------------------------- ------------- 8.4/12.6 MB 4.0 MB/s eta 0:00:02\n",
      "   ----------------------------- ---------- 9.2/12.6 MB 4.0 MB/s eta 0:00:01\n",
      "   ------------------------------- -------- 10.0/12.6 MB 4.0 MB/s eta 0:00:01\n",
      "   ---------------------------------- ----- 10.7/12.6 MB 4.0 MB/s eta 0:00:01\n",
      "   ------------------------------------ --- 11.5/12.6 MB 4.0 MB/s eta 0:00:01\n",
      "   -------------------------------------- - 12.1/12.6 MB 4.0 MB/s eta 0:00:01\n",
      "   ---------------------------------------- 12.6/12.6 MB 3.9 MB/s eta 0:00:00\n",
      "Installing collected packages: numpy\n",
      "Successfully installed numpy-2.1.1\n",
      "Note: you may need to restart the kernel to use updated packages.\n"
     ]
    }
   ],
   "source": [
    "pip install numpy"
   ]
  },
  {
   "cell_type": "code",
   "execution_count": 2,
   "metadata": {},
   "outputs": [
    {
     "name": "stdout",
     "output_type": "stream",
     "text": [
      "88.75\n"
     ]
    }
   ],
   "source": [
    "# Example of When to Use Each:\n",
    "#Use np.mean(): If you have an array of student grades and you want the overall average score:\n",
    "import numpy as np\n",
    "scores = np.array([85, 90, 88, 92])\n",
    "print(np.mean(scores))  \n"
   ]
  },
  {
   "cell_type": "code",
   "execution_count": 3,
   "metadata": {},
   "outputs": [
    {
     "name": "stdout",
     "output_type": "stream",
     "text": [
      "87.80000000000001\n"
     ]
    }
   ],
   "source": [
    "#Use np.average(): If you want to calculate a student's weighted average score, where different subjects have different importance\n",
    "scores = np.array([85, 90, 88, 92])  \n",
    "weights = np.array([0.4, 0.3, 0.2, 0.1])  \n",
    "print(np.average(scores, weights=weights))  \n"
   ]
  },
  {
   "cell_type": "code",
   "execution_count": null,
   "metadata": {},
   "outputs": [],
   "source": [
    "\"\"\"\n",
    "Q3) Describe the methods for reversing a NumPy array along different axes. Provide examples for 1D and 2D arrays.\n",
    "Answer-\n",
    "    Reversing a NumPy array can be done in several ways depending on the array's dimensions and the axes along which you want to reverse it. \n",
    "    Here are some methods for reversing NumPy arrays along different axes:\n",
    "    1) Reversing a 1D Array -\n",
    "       For a 1D array (a simple list of numbers), you can reverse it using slicing.\n",
    "       Method: Slicing ([::-1])\n",
    "       You can reverse a 1D array by slicing it with the step -1, which effectively reverses the order of the elements.\n",
    "    2) Reversing a 2D Array -\n",
    "       For 2D arrays (matrices), you can reverse the array along different axes: rows, columns, or both.\n",
    "       a) Method 1: Reversing Rows-\n",
    "          To reverse the rows of a 2D array, use slicing with [::-1, :]. This will reverse the order of the rows while keeping the columns\n",
    "          intact.\n",
    "       b) Method 2: Reversing Columns-\n",
    "          To reverse the columns of a 2D array, use slicing with [:, ::-1]. This will reverse the order of the columns while keeping the rows\n",
    "          intact.\n",
    "       c) Method 3: Reversing Both Rows and Columns -\n",
    "          To reverse both rows and columns, combine the slicing approaches: [::-1, ::-1].\n",
    "    3) Using np.flip() -\n",
    "       np.flip() is a NumPy function specifically designed to reverse the elements of an array along a specified axis. You can use this method\n",
    "       for any dimension (1D, 2D, etc.)\n",
    "       Syntax-  np.flip(array, axis)\n",
    "       axis=0: Reverses the array along rows.\n",
    "       axis=1: Reverses the array along columns.\n",
    "       \n",
    "\"\"\""
   ]
  },
  {
   "cell_type": "code",
   "execution_count": 4,
   "metadata": {},
   "outputs": [
    {
     "name": "stdout",
     "output_type": "stream",
     "text": [
      "[5 4 3 2 1]\n"
     ]
    }
   ],
   "source": [
    "#Example 1: Reversing a 1D array using np.flip()\n",
    "arr = np.array([1, 2, 3, 4, 5])\n",
    "reversed_arr = np.flip(arr)\n",
    "print(reversed_arr)  \n"
   ]
  },
  {
   "cell_type": "code",
   "execution_count": 5,
   "metadata": {},
   "outputs": [
    {
     "name": "stdout",
     "output_type": "stream",
     "text": [
      "[[7 8 9]\n",
      " [4 5 6]\n",
      " [1 2 3]]\n"
     ]
    }
   ],
   "source": [
    "#Example 2: Reversing a 2D array using np.flip() along rows\n",
    "arr_2d = np.array([[1, 2, 3], \n",
    "                   [4, 5, 6], \n",
    "                   [7, 8, 9]])\n",
    "\n",
    "flipped_rows = np.flip(arr_2d, axis=0)\n",
    "print(flipped_rows)"
   ]
  },
  {
   "cell_type": "code",
   "execution_count": 6,
   "metadata": {},
   "outputs": [
    {
     "name": "stdout",
     "output_type": "stream",
     "text": [
      "[[3 2 1]\n",
      " [6 5 4]\n",
      " [9 8 7]]\n"
     ]
    }
   ],
   "source": [
    "#Example 3: Reversing a 2D array using np.flip() along columns\n",
    "flipped_columns = np.flip(arr_2d, axis=1)\n",
    "print(flipped_columns)"
   ]
  },
  {
   "cell_type": "code",
   "execution_count": 7,
   "metadata": {},
   "outputs": [
    {
     "name": "stdout",
     "output_type": "stream",
     "text": [
      "[5 4 3 2 1]\n"
     ]
    }
   ],
   "source": [
    "#Example 4: Reversing a 1D Array\n",
    "arr = np.array([1, 2, 3, 4, 5])\n",
    "\n",
    "reversed_arr = arr[::-1]\n",
    "print(reversed_arr)  "
   ]
  },
  {
   "cell_type": "code",
   "execution_count": 8,
   "metadata": {},
   "outputs": [
    {
     "name": "stdout",
     "output_type": "stream",
     "text": [
      "[[7 8 9]\n",
      " [4 5 6]\n",
      " [1 2 3]]\n"
     ]
    }
   ],
   "source": [
    "#Example 5: Reversing a 2D Array\n",
    "arr_2d = np.array([[1, 2, 3], \n",
    "                   [4, 5, 6], \n",
    "                   [7, 8, 9]])\n",
    "\n",
    "reversed_rows = arr_2d[::-1, :]\n",
    "print(reversed_rows)"
   ]
  },
  {
   "cell_type": "code",
   "execution_count": null,
   "metadata": {},
   "outputs": [],
   "source": [
    "\n",
    "\"\"\"\n",
    "Q4) How can you determine the data type of elements in a NumPy array? Discuss the importance of data types in memory management and \n",
    "    performance.\n",
    "Answer- \n",
    "    Importance of Data Types in Memory Management and Performance\n",
    "    1) Memory Management:\n",
    "       a) NumPy arrays are stored as contiguous blocks of memory, which makes accessing elements more efficient than lists. Each element in a \n",
    "       NumPy array has a fixed size, determined by its data type.\n",
    "       b) Using appropriate data types reduces memory consumption. For instance, storing integers as int8 (8-bit integers) uses less memory than\n",
    "       int64 (64-bit integers). Choosing the right data type for your data can significantly reduce the memory footprint of large arrays.\n",
    "\n",
    "    2) Performance:\n",
    "       a) Data types affect computational performance. Smaller data types (e.g., float32, int16) can be processed faster than larger types\n",
    "          (e.g., float64, int64) because they require less memory bandwidth and cache usage.\n",
    "       b) NumPy operations are optimized to run efficiently on fixed-size data types, leveraging CPU vectorization (SIMD operations) for \n",
    "          performance improvements.    \n",
    "\n",
    "    3) Precision:\n",
    "       a) Data types also impact the precision of computations. For example, float32 offers less precision than float64. Depending on the \n",
    "          requirements, you should select a data type that offers sufficient precision without wasting resources.   \n",
    "\n",
    "\"\"\""
   ]
  },
  {
   "cell_type": "code",
   "execution_count": 11,
   "metadata": {},
   "outputs": [
    {
     "name": "stdout",
     "output_type": "stream",
     "text": [
      "int64\n"
     ]
    }
   ],
   "source": [
    "#To determine the data type of elements in a NumPy array, we use the dtype attribute. \n",
    "#checking the data type of elements in a NumPy array\n",
    "\n",
    "arr = np.array([1, 2, 3, 4])\n",
    "print(arr.dtype)"
   ]
  },
  {
   "cell_type": "code",
   "execution_count": 13,
   "metadata": {},
   "outputs": [
    {
     "name": "stdout",
     "output_type": "stream",
     "text": [
      "3\n",
      "24\n"
     ]
    }
   ],
   "source": [
    "#In this example arr_int8 Uses 1 byte per element, arr_int64 Uses 8 bytes per element\n",
    "\n",
    "arr_int8 = np.array([1, 2, 3], dtype=np.int8)  \n",
    "arr_int64 = np.array([1, 2, 3], dtype=np.int64) \n",
    "print(arr_int8.nbytes)  \n",
    "print(arr_int64.nbytes) "
   ]
  },
  {
   "cell_type": "code",
   "execution_count": null,
   "metadata": {},
   "outputs": [],
   "source": [
    "\"\"\"\n",
    "Q5) Define ndarrays in NumPy and explain their key features. How do they differ from standard Python lists?\n",
    "Answer-\n",
    "    An ndarray (N-dimensional array) in NumPy is a grid of values, all of the same type, indexed by a tuple of non-negative integers. It is \n",
    "    the core data structure of the NumPy library, allowing efficient storage and manipulation of large amounts of data in a structured, \n",
    "    multi-dimensional format.\n",
    "    Key Features of ndarray -\n",
    "    1) Homogeneous Data Types: \n",
    "       All elements in an ndarray must have the same data type (e.g., integers, floats). This allows for efficient memory allocation and \n",
    "       computation.\n",
    "    2) N-dimensional: \n",
    "       Unlike a standard Python list, which is essentially one-dimensional, ndarray can be multi-dimensional (1D, 2D, 3D, etc.).\n",
    "    3) Efficient Memory Management: \n",
    "       Since ndarray stores data in a contiguous block of memory, it minimizes memory overhead and allows efficient computation, especially \n",
    "       with large datasets.\n",
    "    4) Vectorized Operations:\n",
    "       NumPy supports element-wise operations without needing explicit loops, making mathematical and logical operations more concise and \n",
    "       much faster.\n",
    "    5) Broadcasting: \n",
    "       NumPy arrays support broadcasting, which allows arithmetic operations between arrays of different shapes, by automatically expanding \n",
    "       the smaller array.\n",
    "    6) Shape and Size Flexibility: \n",
    "       You can reshape, slice, and index ndarray objects easily, making it versatile for various computational tasks.\n",
    "    7) Built-in Mathematical Functions: \n",
    "       NumPy provides numerous optimized mathematical and statistical functions like mean(), sum(), dot(), and max() that work directly on \n",
    "       arrays. \n",
    "\n",
    "    Differences between ndarray and Python Lists:\n",
    "    1) Data Type:\n",
    "       ndarray(Numpy) - Homogeneous (all elements have the same type)\t\n",
    "       Python List - Heterogeneous (can store mixed types)\n",
    "    2) Dimensionality:\n",
    "       ndarray(Numpy) - Multi-dimensional (1D, 2D, nD)\t\n",
    "       Python List - Mostly 1D (nested lists simulate higher dimensions)\n",
    "    3) Memory Efficiency:   \n",
    "       ndarray(Numpy) - Stored in contiguous memory blocks, efficient\t\n",
    "       Python List - Less efficient due to memory overhead\n",
    "    4) Operations:\n",
    "       ndarray(Numpy) - Supports fast, element-wise operations\t\n",
    "       Python List - Operations often require explicit loops\n",
    "    5) Broadcasting:   \n",
    "       ndarray(Numpy) - Supports broadcasting for element-wise operations with different shapes\n",
    "       Python List - Not supported\n",
    "    6) Performance:\n",
    "       ndarray(Numpy) - Highly optimized for numerical computations\t\n",
    "       Python List - Slower for large datasets\n",
    "    7) Built-in Functions:\n",
    "       ndarray(Numpy) - Rich set of mathematical functions\t\n",
    "       Python List - Fewer built-in math-related functions\n",
    "    8) Reshaping:\n",
    "       ndarray(Numpy) - Can easily reshape without copying data\t\n",
    "       Python List - Reshaping requires manually creating new lists\n",
    "\"\"\""
   ]
  },
  {
   "cell_type": "code",
   "execution_count": 4,
   "metadata": {},
   "outputs": [
    {
     "name": "stdout",
     "output_type": "stream",
     "text": [
      "<class 'numpy.ndarray'>\n",
      "int64\n"
     ]
    }
   ],
   "source": [
    "#Key Features of ndarray\n",
    "#Homogeneous Data Types\n",
    "arr = np.array([1,2,3,4])\n",
    "print(type(arr))\n",
    "print(arr.dtype)\n",
    "# All elements are of type float32"
   ]
  },
  {
   "cell_type": "code",
   "execution_count": 8,
   "metadata": {},
   "outputs": [
    {
     "data": {
      "text/plain": [
       "2"
      ]
     },
     "execution_count": 8,
     "metadata": {},
     "output_type": "execute_result"
    }
   ],
   "source": [
    "#N-dimensional\n",
    "# 2D array\n",
    "arr_2d = np.array([[1, 2], [3, 4]])  \n",
    "arr_2d.ndim"
   ]
  },
  {
   "cell_type": "code",
   "execution_count": 10,
   "metadata": {},
   "outputs": [
    {
     "name": "stdout",
     "output_type": "stream",
     "text": [
      "[2 4 6]\n"
     ]
    }
   ],
   "source": [
    "#Vectorized Operations\n",
    "# Element-wise multiplication\n",
    "arr = np.array([1, 2, 3])\n",
    "result = arr * 2 \n",
    "print(result) "
   ]
  },
  {
   "cell_type": "code",
   "execution_count": 11,
   "metadata": {},
   "outputs": [
    {
     "name": "stdout",
     "output_type": "stream",
     "text": [
      "[6 7 8]\n"
     ]
    }
   ],
   "source": [
    "#Broadcasting\n",
    "# Adds 5 to every element\n",
    "arr = np.array([1, 2, 3])\n",
    "result = arr + 5  \n",
    "print(result)\n"
   ]
  },
  {
   "cell_type": "code",
   "execution_count": 12,
   "metadata": {},
   "outputs": [
    {
     "name": "stdout",
     "output_type": "stream",
     "text": [
      "[[1 2 3]\n",
      " [4 5 6]]\n"
     ]
    }
   ],
   "source": [
    "#Shape and Size Flexibility\n",
    "# Converts 1D array to 2D array\n",
    "arr = np.array([1, 2, 3, 4, 5, 6])\n",
    "reshaped = arr.reshape((2, 3))  \n",
    "print(reshaped)"
   ]
  },
  {
   "cell_type": "code",
   "execution_count": null,
   "metadata": {},
   "outputs": [],
   "source": [
    "\"\"\"\n",
    "Q6) Analyze the performance benefits of NumPy arrays over Python lists for large-scale numerical operations.\n",
    "Answer-\n",
    "    The performance benefits of NumPy arrays over Python lists for large-scale numerical operations can be summarized as follows:\n",
    "\n",
    "    1) Memory Efficiency:\n",
    "       NumPy Arrays - Store elements in a contiguous block of memory with a fixed data type, making memory usage more efficient.\n",
    "       Python Lists - Store references to objects, causing higher memory overhead, especially for large datasets.\n",
    "    2) Speed (Vectorized Operations):\n",
    "       NumPy Arrays - Support vectorized operations, meaning element-wise operations are performed in highly optimized C code, making them \n",
    "       much faster.\n",
    "       Python Lists - Require explicit loops for element-wise operations, which are slower due to Python's interpreted nature.\n",
    "    3) Broadcasting:\n",
    "       NumPy Arrays - Allow arithmetic operations between arrays of different shapes without the need for loops, thanks to broadcasting.\n",
    "       Python Lists - Do not support broadcasting, and manual handling (e.g., nested loops) is needed.\n",
    "    4) Built-in Mathematical Functions:\n",
    "       NumPy Arrays - Provide many optimized mathematical functions like sum(), mean(), and dot(), which are faster and more efficient.\n",
    "       Python Lists - Use slower Python functions or require custom logic for numerical operations.\n",
    "    5) Parallelization and Optimized CPU Use:\n",
    "       NumPy Arrays - Take advantage of hardware-level optimizations such as SIMD (Single Instruction, Multiple Data), which further speeds \n",
    "       up large-scale operations.\n",
    "       Python Lists - Do not leverage these optimizations, resulting in slower computations.\n",
    "\"\"\""
   ]
  },
  {
   "cell_type": "code",
   "execution_count": 4,
   "metadata": {},
   "outputs": [
    {
     "name": "stdout",
     "output_type": "stream",
     "text": [
      "Memory size of Python list: 104\n",
      "Memory size of NumPy array: 40\n"
     ]
    }
   ],
   "source": [
    "#Memory Efficiency\n",
    "import numpy as np\n",
    "import sys\n",
    "\n",
    "# Python list memory usage\n",
    "python_list = [1,2,3,4,5]\n",
    "print(\"Memory size of Python list:\", sys.getsizeof(python_list))\n",
    "\n",
    "# NumPy array memory usage\n",
    "numpy_array = np.array([1,2,3,4,5])\n",
    "print(\"Memory size of NumPy array:\", numpy_array.nbytes)"
   ]
  },
  {
   "cell_type": "code",
   "execution_count": 14,
   "metadata": {},
   "outputs": [
    {
     "name": "stdout",
     "output_type": "stream",
     "text": [
      "Python list time: 0.027103900909423828\n",
      "Numpy array time: 0.006905317306518555\n"
     ]
    }
   ],
   "source": [
    "#Speed and Vectorization\n",
    "#Element-wise addition\n",
    "\n",
    "import time\n",
    "\n",
    "# Using Python list\n",
    "python_list = list(range(2000000))\n",
    "start = time.time()\n",
    "python_result = (x * 2 for x in python_list)\n",
    "print(\"Python list time:\", time.time() - start)\n",
    "\n",
    "\n",
    "# Using NumPy array\n",
    "numpy_array = np.arange(2000000)\n",
    "start = time.time()\n",
    "numpy_result = (numpy_array * 2)\n",
    "print(\"Numpy array time:\", time.time() - start)\n"
   ]
  },
  {
   "cell_type": "code",
   "execution_count": null,
   "metadata": {},
   "outputs": [],
   "source": [
    "\"\"\"\n",
    "Q7)  Compare vstack() and hstack() functions in NumPy. Provide examples demonstrating their usage and output.\n",
    "Answer-\n",
    "    In NumPy, the vstack() and hstack() functions are used to stack arrays together along different axes.\n",
    "\n",
    "    1) vstack() (Vertical Stack):\n",
    "       Function: Stacks arrays vertically (row-wise), meaning it combines arrays by adding more rows.\n",
    "       Axis: It stacks arrays along the first axis (axis=0).\n",
    "       Shape Requirement: Arrays must have the same number of columns.\n",
    "\n",
    "    2) hstack() (Horizontal Stack)\n",
    "       Function: Stacks arrays horizontally (column-wise), meaning it combines arrays by adding more columns.\n",
    "       Axis: It stacks arrays along the second axis (axis=1) if they are 2D.\n",
    "       Shape Requirement: Arrays must have the same number of rows.      \n",
    "\"\"\""
   ]
  },
  {
   "cell_type": "code",
   "execution_count": 17,
   "metadata": {},
   "outputs": [
    {
     "name": "stdout",
     "output_type": "stream",
     "text": [
      "Vertical Stack:\n",
      " [[1 2 3]\n",
      " [4 5 6]]\n"
     ]
    }
   ],
   "source": [
    "#vstack()\n",
    "# Two 1D arrays\n",
    "arr1 = np.array([1, 2, 3])\n",
    "arr2 = np.array([4, 5, 6])\n",
    "\n",
    "result_vstack = np.vstack((arr1, arr2))\n",
    "print(\"Vertical Stack:\\n\", result_vstack)\n"
   ]
  },
  {
   "cell_type": "code",
   "execution_count": 18,
   "metadata": {},
   "outputs": [
    {
     "name": "stdout",
     "output_type": "stream",
     "text": [
      "Horizontal Stack:\n",
      " [1 2 3 4 5 6]\n"
     ]
    }
   ],
   "source": [
    "#hstack\n",
    "# Two 1D arrays\n",
    "arr1 = np.array([1, 2, 3])\n",
    "arr2 = np.array([4, 5, 6])\n",
    "\n",
    "result_hstack = np.hstack((arr1, arr2))\n",
    "print(\"Horizontal Stack:\\n\", result_hstack)\n"
   ]
  },
  {
   "cell_type": "code",
   "execution_count": 20,
   "metadata": {},
   "outputs": [
    {
     "name": "stdout",
     "output_type": "stream",
     "text": [
      "Vertical Stack 2D:\n",
      " [[1 2]\n",
      " [3 4]\n",
      " [5 6]\n",
      " [7 8]]\n",
      "Horizontal Stack 2D:\n",
      " [[1 2 5 6]\n",
      " [3 4 7 8]]\n"
     ]
    }
   ],
   "source": [
    "#stacking 2D array\n",
    "# Two 2D arrays\n",
    "arr1_2d = np.array([[1, 2], [3, 4]])\n",
    "arr2_2d = np.array([[5, 6], [7, 8]])\n",
    "\n",
    "result_vstack_2d = np.vstack((arr1_2d, arr2_2d))\n",
    "print(\"Vertical Stack 2D:\\n\", result_vstack_2d)\n",
    "\n",
    "result_hstack_2d = np.hstack((arr1_2d, arr2_2d))\n",
    "print(\"Horizontal Stack 2D:\\n\", result_hstack_2d)\n"
   ]
  },
  {
   "cell_type": "code",
   "execution_count": null,
   "metadata": {},
   "outputs": [],
   "source": [
    "\"\"\"\n",
    "Q8) Explain the differences between fliplr() and flipud() methods in NumPy, including their effects on various array dimensions.\n",
    "Answer-\n",
    "    In NumPy, fliplr() and flipud() are two methods used to flip or reverse the order of elements in a 2D array (or higher-dimensional arrays). They are specifically designed to flip the array along different axes:\n",
    "\n",
    "    1) fliplr() (Flip Left to Right) -\n",
    "       Function: Flips the array horizontally, reversing the order of columns (left to right).\n",
    "       Effect: It flips the array along the second axis (axis=1).\n",
    "       Applicable to: At least 2D arrays. For higher-dimensional arrays, it flips the elements in each 2D subarray along the second axis.\n",
    "\n",
    "    2) flipud() (Flip Up to Down)\n",
    "       Function: Flips the array vertically, reversing the order of rows (up to down).\n",
    "       Effect: It flips the array along the first axis (axis=0).\n",
    "       Applicable to: At least 2D arrays. For higher-dimensional arrays, it flips the elements in each 2D subarray along the first axis.\n",
    "\"\"\""
   ]
  },
  {
   "cell_type": "code",
   "execution_count": 23,
   "metadata": {},
   "outputs": [
    {
     "name": "stdout",
     "output_type": "stream",
     "text": [
      "Original Array:\n",
      " [[ 1  2  3  4]\n",
      " [ 5  6  7  8]\n",
      " [ 9 10 11 12]\n",
      " [13 14 15 16]]\n",
      "fliplr (Left to Right Flip):\n",
      " [[ 4  3  2  1]\n",
      " [ 8  7  6  5]\n",
      " [12 11 10  9]\n",
      " [16 15 14 13]]\n"
     ]
    }
   ],
   "source": [
    "# Flip left to right\n",
    "# 2D array\n",
    "arr = np.array([[1, 2, 3, 4], [5, 6, 7, 8], [9, 10, 11, 12], [13, 14, 15, 16]])\n",
    "\n",
    "result_fliplr = np.fliplr(arr)\n",
    "print(\"Original Array:\\n\", arr)\n",
    "print(\"fliplr (Left to Right Flip):\\n\", result_fliplr)\n"
   ]
  },
  {
   "cell_type": "code",
   "execution_count": 24,
   "metadata": {},
   "outputs": [
    {
     "name": "stdout",
     "output_type": "stream",
     "text": [
      "flipud (Up to Down Flip):\n",
      " [[13 14 15 16]\n",
      " [ 9 10 11 12]\n",
      " [ 5  6  7  8]\n",
      " [ 1  2  3  4]]\n"
     ]
    }
   ],
   "source": [
    "# Flip up to down\n",
    "result_flipud = np.flipud(arr)\n",
    "print(\"flipud (Up to Down Flip):\\n\", result_flipud)\n"
   ]
  },
  {
   "cell_type": "code",
   "execution_count": null,
   "metadata": {},
   "outputs": [],
   "source": [
    "\"\"\"\n",
    "Q9) Discuss the functionality of the array_split() method in NumPy. How does it handle uneven splits?\n",
    "Answer-\n",
    "    The array_split() method in NumPy is used to split an array into multiple sub-arrays. It is more flexible than the regular split() method\n",
    "    because it can handle cases where the array cannot be evenly divided.\n",
    "\n",
    "    Functionality:\n",
    "    1) The array_split() method divides an array into a specified number of equally or unequally sized sub-arrays.\n",
    "    2) If the array can't be divided evenly, it allows uneven splits by distributing the leftover elements into the earlier sub-arrays.\n",
    "\n",
    "    Syntax:\n",
    "    numpy.array_split(array, sections)\n",
    "    where, array is the input array to be split and sections is the number of sub-arrays or a list of indices indicating where to split the \n",
    "    array.\n",
    "    \n",
    "    How it Handles Uneven Splits -\n",
    "    When the array size is not evenly divisible by the number of sections specified, array_split() divides the array as evenly as possible,\n",
    "    giving larger sub-arrays at the start. If some leftover elements remain, the first few sub-arrays get one extra element each until all \n",
    "    elements are distributed.\n",
    "\n",
    "    Splitting 2D Arrays:\n",
    "    array_split() can also split multi-dimensional arrays along a specific axis.\n",
    "\n",
    "    Handling Uneven Splits in Multi-dimensional Arrays:\n",
    "    If the number of rows (or columns, depending on the axis) is not evenly divisible, array_split() will distribute the extra rows/columns \n",
    "    into earlier sub-arrays.\n",
    "\n",
    "    Key Differences from split():\n",
    "    The split() function raises a ValueError if the array cannot be split evenly.\n",
    "    The array_split() method handles uneven splits gracefully by adjusting the sub-array sizes.\n",
    "\"\"\""
   ]
  },
  {
   "cell_type": "code",
   "execution_count": 27,
   "metadata": {},
   "outputs": [
    {
     "name": "stdout",
     "output_type": "stream",
     "text": [
      "Array split int 3 sunarrays:\n",
      " [array([1, 2, 3]), array([4, 5]), array([6, 7])]\n"
     ]
    }
   ],
   "source": [
    "#solitting 1 D array into 3 subarrays\n",
    "arr = np.array([1,2,3,4,5,6,7])\n",
    "result = np.array_split(arr, 3)\n",
    "print(\"Array split int 3 sunarrays:\\n\", result)"
   ]
  },
  {
   "cell_type": "code",
   "execution_count": 29,
   "metadata": {},
   "outputs": [
    {
     "name": "stdout",
     "output_type": "stream",
     "text": [
      "2D Array Split into 2 sub-arrays:\n",
      " [array([[1, 2, 3],\n",
      "       [4, 5, 6]]), array([[7, 8, 9]])]\n"
     ]
    }
   ],
   "source": [
    "arr_2d = np.array([[1, 2, 3], [4, 5, 6], [7, 8, 9]])\n",
    "\n",
    "# Splitting the array into 2 parts along the default axis (rows)\n",
    "result_2d = np.array_split(arr_2d, 2)\n",
    "print(\"2D Array Split into 2 sub-arrays:\\n\", result_2d)\n"
   ]
  },
  {
   "cell_type": "code",
   "execution_count": 30,
   "metadata": {},
   "outputs": [
    {
     "name": "stdout",
     "output_type": "stream",
     "text": [
      "Uneven Split into 4 sub-arrays:\n",
      " [array([1, 2]), array([3, 4]), array([5, 6]), array([7])]\n"
     ]
    }
   ],
   "source": [
    "#splitting into 4 parts using array_split()\n",
    "arr = np.array([1,2,3,4,5,6,7])\n",
    "result_uneven = np.array_split(arr, 4)\n",
    "print(\"Uneven Split into 4 sub-arrays:\\n\", result_uneven)\n"
   ]
  },
  {
   "cell_type": "code",
   "execution_count": null,
   "metadata": {},
   "outputs": [],
   "source": [
    "\"\"\"\n",
    "Q10) Explain the concepts of vectorization and broadcasting in NumPy. How do they contribute to efficient array operations?\n",
    "Answer-\n",
    "    1) Vectorization in NumPy -\n",
    "       Vectorization refers to the process of applying operations to entire arrays (or vectors) in a single step, without using explicit loops.\n",
    "       In NumPy, this means that operations like addition, multiplication, and other element-wise operations are executed on the entire array\n",
    "       at once. NumPy internally implements these operations in optimized C code, allowing them to run much faster than if you manually looped\n",
    "       through each element in Python.\n",
    "       Vectorization applies operations to entire arrays at once, improving speed and performance.\n",
    "\n",
    "    Benefits of Vectorization:\n",
    "    1) Speed: Vectorized operations are much faster than loops in Python because they eliminate the overhead of Python's interpreted loop \n",
    "       execution and leverage optimized low-level implementations.\n",
    "    2) Cleaner Code: Vectorized operations make the code more concise and easier to read, as the same operation is applied to an entire array\n",
    "       without needing explicit loops.\n",
    "\n",
    "    2. Broadcasting in NumPy -\n",
    "       Broadcasting is a mechanism that allows NumPy to perform operations on arrays of different shapes, by automatically \"stretching\" the \n",
    "       smaller array to match the shape of the larger array. This avoids the need to manually reshape arrays or repeat values, allowing for \n",
    "       efficient operations.\n",
    "       Broadcasting allows arrays of different shapes to be operated on together by automatically expanding the smaller array to match the \n",
    "       shape of the larger array.\n",
    "\n",
    "    How Broadcasting Works:\n",
    "    When performing operations on arrays of different shapes, NumPy compares the shapes element-wise from right to left. If the dimensions \n",
    "    are not the same, NumPy:\n",
    "    1) Tries to \"broadcast\" the smaller array by virtually replicating its data along the missing dimensions.\n",
    "    2) It doesn’t actually copy data, which would be inefficient, but instead performs operations as if the smaller array were expanded.\n",
    "    \n",
    "    Rules for Broadcasting:\n",
    "    1) If the dimensions are equal, the arrays are compatible.\n",
    "    2) If one of the arrays has a dimension of size 1, NumPy \"stretches\" this dimension to match the other array.\n",
    "    3) Arrays with incompatible shapes will raise a ValueError.\n",
    "\n",
    "    contribution of Vectorization and Broadcasting to efficient array operations -\n",
    "    1) Avoid Loops: Both vectorization and broadcasting eliminate the need for explicit Python loops, which are slow due to Python’s \n",
    "       interpreted nature. Instead, operations are performed using highly optimized, low-level code.\n",
    "\n",
    "    2) Speed and Performance: \n",
    "       Vectorized operations are faster because NumPy leverages efficient C-based implementations that work on entire arrays at once.\n",
    "       Broadcasting allows operations on arrays of different shapes without needing to manually reshape or copy data, saving both time and \n",
    "       memory.\n",
    "    \n",
    "    3) Memory Efficiency:\n",
    "       Broadcasting avoids the need to create large temporary arrays (like repeated copies of smaller arrays), which would consume memory and\n",
    "       slow down computations.\n",
    "       NumPy handles array operations in-place wherever possible, further improving memory efficiency.\n",
    "\n",
    "\"\"\""
   ]
  },
  {
   "cell_type": "code",
   "execution_count": 31,
   "metadata": {},
   "outputs": [
    {
     "name": "stdout",
     "output_type": "stream",
     "text": [
      "[5 7 9]\n"
     ]
    }
   ],
   "source": [
    "#Example of Vectorization:\n",
    "\n",
    "arr1 = np.array([1, 2, 3])\n",
    "arr2 = np.array([4, 5, 6])\n",
    "\n",
    "# Vectorized addition\n",
    "result = arr1 + arr2  \n",
    "print(result) \n",
    "\n",
    "#Instead of using a loop to add each element, NumPy performs the addition on the entire array in one step. This is not only faster but also\n",
    "#more readable."
   ]
  },
  {
   "cell_type": "code",
   "execution_count": 32,
   "metadata": {},
   "outputs": [
    {
     "name": "stdout",
     "output_type": "stream",
     "text": [
      "[[ 5  7  9]\n",
      " [ 8 10 12]]\n"
     ]
    }
   ],
   "source": [
    "#Example of Broadcasting\n",
    "\n",
    "arr1 = np.array([1, 2, 3])\n",
    "\n",
    "arr2 = np.array([[4, 5, 6],\n",
    "                 [7, 8, 9]])\n",
    "\n",
    "result = arr1 + arr2\n",
    "print(result)\n",
    "\n",
    "# Broadcasting adds arr1 to each row of arr2\n"
   ]
  },
  {
   "cell_type": "code",
   "execution_count": null,
   "metadata": {},
   "outputs": [],
   "source": [
    "\"\"\"Practical Questions\"\"\""
   ]
  },
  {
   "cell_type": "code",
   "execution_count": 46,
   "metadata": {},
   "outputs": [
    {
     "name": "stdout",
     "output_type": "stream",
     "text": [
      "Original array:\n",
      " [[46 77 83]\n",
      " [75 77 64]\n",
      " [70 66 92]]\n",
      "\n",
      " Transposed array (rows and columns interchanged:)\n",
      " [[46 75 70]\n",
      " [77 77 66]\n",
      " [83 64 92]]\n"
     ]
    }
   ],
   "source": [
    "\"\"\"\n",
    "Q1) Create a 3x3 NumPy array with random integers between 1 and 100. Then, interchange its rows and columns.\n",
    "Answer-\n",
    "\"\"\"\n",
    "numpy_array = np.random.randint(1,101, size =(3,3))\n",
    "print(\"Original array:\\n\", numpy_array)\n",
    "\n",
    "# Interchanging rows and columns (Transpose)\n",
    "transposed_array = np.transpose(numpy_array)\n",
    "print(\"\\n Transposed array (rows and columns interchanged:)\\n\", transposed_array )"
   ]
  },
  {
   "cell_type": "code",
   "execution_count": 59,
   "metadata": {},
   "outputs": [
    {
     "name": "stdout",
     "output_type": "stream",
     "text": [
      "1D array:\n",
      " [0 1 2 3 4 5 6 7 8 9]\n",
      "\n",
      " Reshaped to 2x5 Array:\n",
      " [[0 1 2 3 4]\n",
      " [5 6 7 8 9]]\n",
      "\n",
      " Reshaped to 5x2 Array:\n",
      " [[0 1]\n",
      " [2 3]\n",
      " [4 5]\n",
      " [6 7]\n",
      " [8 9]]\n"
     ]
    }
   ],
   "source": [
    "\"\"\"\n",
    "Q2) Generate a 1D NumPy array with 10 elements. Reshape it into a 2x5 array, then into a 5x2 array.\n",
    "Answer-\n",
    "\"\"\"\n",
    "arr1 = np.arange(10)\n",
    "print(\"1D array:\\n\", arr1)\n",
    "\n",
    "arr1_2x5 = arr1.reshape(2, 5)\n",
    "print(\"\\n Reshaped to 2x5 Array:\\n\", arr1_2x5)\n",
    "\n",
    "arr1_5x2 = arr1.reshape(5, 2)\n",
    "print(\"\\n Reshaped to 5x2 Array:\\n\", arr1_5x2)"
   ]
  },
  {
   "cell_type": "code",
   "execution_count": 78,
   "metadata": {},
   "outputs": [
    {
     "name": "stdout",
     "output_type": "stream",
     "text": [
      "[[0.42982357 0.27368008 0.09117126 0.89828537]\n",
      " [0.325883   0.5436922  0.69953075 0.71949257]\n",
      " [0.41868666 0.57041104 0.94513073 0.05322348]\n",
      " [0.25340399 0.47568095 0.67446781 0.80895121]]\n",
      "\n",
      " [[0.         0.         0.         0.         0.         0.        ]\n",
      " [0.         0.42982357 0.27368008 0.09117126 0.89828537 0.        ]\n",
      " [0.         0.325883   0.5436922  0.69953075 0.71949257 0.        ]\n",
      " [0.         0.41868666 0.57041104 0.94513073 0.05322348 0.        ]\n",
      " [0.         0.25340399 0.47568095 0.67446781 0.80895121 0.        ]\n",
      " [0.         0.         0.         0.         0.         0.        ]]\n"
     ]
    }
   ],
   "source": [
    "\"\"\"\n",
    "Q3) Create a 4x4 NumPy array with random float values. Add a border of zeros around it, resulting in a 6x6 array.\n",
    "Answer-\n",
    "\"\"\"\n",
    "arr_4x4 = np.random.rand(4, 4)\n",
    "print(arr_4x4)\n",
    "\n",
    "arr_6x6 = np.pad(arr_4x4, pad_width = 1, mode = 'constant', constant_values = 0)\n",
    "print('\\n',(arr_6x6))\n",
    "\n",
    "#np.random.rand(4, 4) creates a 4x4 array of random floating-point numbers between 0 and 1.\n",
    "#np.pad() adds a border of zeros around the original array, resulting in a 6x6 array."
   ]
  },
  {
   "cell_type": "code",
   "execution_count": 80,
   "metadata": {},
   "outputs": [
    {
     "name": "stdout",
     "output_type": "stream",
     "text": [
      "[10 15 20 25 30 35 40 45 50 55 60]\n"
     ]
    }
   ],
   "source": [
    "\"\"\"\n",
    "Q4) Using NumPy, create an array of integers from 10 to 60 with a step of 5.\n",
    "Answer-\n",
    "\"\"\"\n",
    "int_array = np.arange(10, 61, 5)\n",
    "print(int_array)"
   ]
  },
  {
   "cell_type": "code",
   "execution_count": 96,
   "metadata": {},
   "outputs": [
    {
     "name": "stdout",
     "output_type": "stream",
     "text": [
      "Array of strings: ['python' 'numpy' 'pandas']\n",
      "\n",
      " Uppercase: ['PYTHON' 'NUMPY' 'PANDAS']\n",
      "\n",
      " Lowercase: ['python' 'numpy' 'pandas']\n",
      "\n",
      " Title case: ['Python' 'Numpy' 'Pandas']\n"
     ]
    }
   ],
   "source": [
    "\"\"\"\n",
    "Q5) Create a NumPy array of strings ['python', 'numpy', 'pandas']. Apply different case transformations \n",
    "    (uppercase, lowercase, title case, etc.) to each element.\n",
    "Answer-\n",
    "\"\"\"\n",
    "str_array = np.array(['python', 'numpy', 'pandas'])\n",
    "print('Array of strings:', str_array)\n",
    "\n",
    "print('\\n Uppercase:', np.char.upper(str_array))\n",
    "print('\\n Lowercase:', np.char.lower(str_array))\n",
    "print('\\n Title case:', np.char.title(str_array))"
   ]
  },
  {
   "cell_type": "code",
   "execution_count": 98,
   "metadata": {},
   "outputs": [
    {
     "name": "stdout",
     "output_type": "stream",
     "text": [
      "['python' 'numpy' 'pandas']\n",
      "['p y t h o n' 'n u m p y' 'p a n d a s']\n"
     ]
    }
   ],
   "source": [
    "\"\"\"\n",
    "Q6) Generate a NumPy array of words. Insert a space between each character of every word in the array.\n",
    "Answer-\n",
    "\"\"\"\n",
    "arr_words = np.array(['python', 'numpy', 'pandas'])\n",
    "spaced_arr_words = np.char.join(' ', arr_words)\n",
    "print(arr_words)\n",
    "print(spaced_arr_words)\n"
   ]
  },
  {
   "cell_type": "code",
   "execution_count": 118,
   "metadata": {},
   "outputs": [
    {
     "name": "stdout",
     "output_type": "stream",
     "text": [
      "Addition:  [[11 44 10 12]]\n",
      "Subtraction:  [[-1 10 -4 -4]]\n",
      "Multiplication:  [[ 30 459  21  32]]\n",
      "Division:  [[0.83333333 1.58823529 0.42857143 0.5       ]]\n"
     ]
    }
   ],
   "source": [
    "\"\"\"\n",
    "Q7) Create two 2D NumPy arrays and perform element-wise addition, subtraction, multiplication, and division.\n",
    "Answer-\n",
    "\"\"\"\n",
    "\n",
    "arr1_2D = np.array([[5,27,3,4]])\n",
    "arr2_2D = np.array([[6,17,7,8]])\n",
    "\n",
    "Addition = np.add(arr1_2D, arr2_2D)\n",
    "print('Addition: ', Addition)\n",
    "\n",
    "Subtraction = np.subtract(arr1_2D, arr2_2D)\n",
    "print('Subtraction: ', Subtraction)\n",
    "\n",
    "Multiplication = np.multiply(arr1_2D , arr2_2D)\n",
    "print('Multiplication: ', Multiplication)\n",
    "\n",
    "Division = np.divide(arr1_2D , arr2_2D)\n",
    "print('Division: ', Division)\n"
   ]
  },
  {
   "cell_type": "code",
   "execution_count": 122,
   "metadata": {},
   "outputs": [
    {
     "name": "stdout",
     "output_type": "stream",
     "text": [
      "5x5 identity matrix:\n",
      " [[1. 0. 0. 0. 0.]\n",
      " [0. 1. 0. 0. 0.]\n",
      " [0. 0. 1. 0. 0.]\n",
      " [0. 0. 0. 1. 0.]\n",
      " [0. 0. 0. 0. 1.]]\n",
      "\n",
      " Diagonal elements: \n",
      " [1. 1. 1. 1. 1.]\n"
     ]
    }
   ],
   "source": [
    "\"\"\"\n",
    "Q8) Use NumPy to create a 5x5 identity matrix, then extract its diagonal elements.\n",
    "Answer-\n",
    "\"\"\"\n",
    "identity_matrix = np.eye(5)\n",
    "print('5x5 identity matrix:\\n', identity_matrix)\n",
    "\n",
    "diagonal_el = np.diag(identity_matrix)\n",
    "print('\\n Diagonal elements: \\n', diagonal_el)"
   ]
  },
  {
   "cell_type": "code",
   "execution_count": 132,
   "metadata": {},
   "outputs": [
    {
     "name": "stdout",
     "output_type": "stream",
     "text": [
      "Random integers between 0 to 1000: \n",
      " [569 338 755 280 372 548 262 375 129  65 475 922 152 363 279 279 197 272\n",
      " 761 401 595 563 861  46 470 620  41 524 208  67 371 251 630 201 889 773\n",
      " 696  58 469 881 698 513 318 118 347 127 933  60 998 449 643 935 889 206\n",
      "  56 844 163 887 149 891 340 520 326 214   1 431 194 141 274  12 783 517\n",
      " 436 801   6 457 707 285 749 427 191 208 555 850 804 994 178  31 206 246\n",
      " 654 906 274 591 475  11  53 155 804 437]\n",
      "\n",
      " Prime numbers in the array: \n",
      " [569 755 375 129  65 475 363 279 279 197 761 401 595 563 861  41  67 371\n",
      " 251 201 889 773 469 881 513 347 127 933 449 643 935 889 163 887 149 891\n",
      " 431 141 783 517 801 457 707 285 749 427 191 555  31 591 475  11  53 155\n",
      " 437]\n"
     ]
    }
   ],
   "source": [
    "\"\"\"\n",
    "Q9) Generate a NumPy array of 100 random integers between 0 and 1000. Find and display all prime numbers in this array.\n",
    "Answer-\n",
    "\"\"\"\n",
    "random_int = np.random.randint(0, 1000, size = 100)\n",
    "print('Random integers between 0 to 1000: \\n', random_int)\n",
    "\n",
    "def is_prime(number):\n",
    "    if number < 2:\n",
    "        return False\n",
    "    for i in range(2, int(np.sqrt(number)) + 1):\n",
    "        if number % i == 0:\n",
    "            return False\n",
    "        return True\n",
    "prime_numbers = np.array([number for number in random_int if is_prime(number)])  \n",
    "print('\\n Prime numbers in the array: \\n', prime_numbers)"
   ]
  },
  {
   "cell_type": "code",
   "execution_count": 156,
   "metadata": {},
   "outputs": [
    {
     "name": "stdout",
     "output_type": "stream",
     "text": [
      "Daily temperature: \n",
      " [19 28 32 20 31 32 24 30 20 34 17 31 19 23 25 19 15 18 33 34 33 15 20 23\n",
      " 30 18 22 25 31 15]\n",
      "\n",
      "Weekly Average:\n",
      " [26.57142857 24.85714286 25.28571429 21.85714286]\n",
      "\n",
      "Average for last 2 days:\n",
      " 23.0°C\n"
     ]
    }
   ],
   "source": [
    "\"\"\"\n",
    "Q10) Create a NumPy array representing daily temperatures for a month. Calculate and display the weekly averages. \n",
    "Answer-\n",
    "\"\"\"\n",
    "#Assuming a month has 30 days\n",
    "daily_temperature = np.random.randint(15, 36, size = 30)\n",
    "print('Daily temperature: \\n',daily_temperature)\n",
    "\n",
    "weeks = np.split(daily_temperature[:28], 4)\n",
    "\n",
    "weekly_avg = np.array([np.mean(week) for week in weeks])\n",
    "print('\\nWeekly Average:\\n', weekly_avg)\n",
    "\n",
    "last_2days = np.mean(daily_temperature[28:])\n",
    "print(f'\\nAverage for last 2 days:\\n {last_2days}°C')"
   ]
  }
 ],
 "metadata": {
  "kernelspec": {
   "display_name": "Python 3",
   "language": "python",
   "name": "python3"
  },
  "language_info": {
   "codemirror_mode": {
    "name": "ipython",
    "version": 3
   },
   "file_extension": ".py",
   "mimetype": "text/x-python",
   "name": "python",
   "nbconvert_exporter": "python",
   "pygments_lexer": "ipython3",
   "version": "3.12.6"
  }
 },
 "nbformat": 4,
 "nbformat_minor": 2
}
